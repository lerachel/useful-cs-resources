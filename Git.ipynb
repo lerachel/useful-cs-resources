{
 "cells": [
  {
   "cell_type": "markdown",
   "metadata": {},
   "source": [
    "## How to upload existing folder to a new Github repo\n",
    "\n",
    "1) Go to that folder\n",
    "\n",
    "2) In terminal type:\n",
    "\n",
    "> $ git init\n",
    "\n",
    "> $ git add.\n",
    "\n",
    "> $ git commit -m \"some message\"\n",
    "\n",
    "\n",
    "In new Github repo, copy its address\n",
    "\n",
    "#### $ git remote add origin https://github.com/lerachel/css581-machine-learning.git\n",
    "\n",
    "> $ git push -u origin master\n",
    "\n"
   ]
  },
  {
   "cell_type": "code",
   "execution_count": null,
   "metadata": {},
   "outputs": [],
   "source": []
  }
 ],
 "metadata": {
  "kernelspec": {
   "display_name": "Python 3",
   "language": "python",
   "name": "python3"
  },
  "language_info": {
   "codemirror_mode": {
    "name": "ipython",
    "version": 3
   },
   "file_extension": ".py",
   "mimetype": "text/x-python",
   "name": "python",
   "nbconvert_exporter": "python",
   "pygments_lexer": "ipython3",
   "version": "3.6.8"
  }
 },
 "nbformat": 4,
 "nbformat_minor": 2
}
