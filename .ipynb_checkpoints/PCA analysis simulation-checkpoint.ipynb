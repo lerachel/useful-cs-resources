{
 "cells": [
  {
   "cell_type": "code",
   "execution_count": 384,
   "metadata": {},
   "outputs": [],
   "source": [
    "import matplotlib.pyplot as plt\n",
    "import numpy as np\n",
    "import random"
   ]
  },
  {
   "cell_type": "code",
   "execution_count": 385,
   "metadata": {},
   "outputs": [],
   "source": [
    "random.seed(851928374659382)"
   ]
  },
  {
   "cell_type": "code",
   "execution_count": 386,
   "metadata": {},
   "outputs": [],
   "source": [
    "# Generate random points of x and y coordinates between -50 and 50"
   ]
  },
  {
   "cell_type": "code",
   "execution_count": 387,
   "metadata": {},
   "outputs": [],
   "source": [
    "coords = [[np.random.randint(-50,50), np.random.randint(-50,50)] for _ in range(1000)]"
   ]
  },
  {
   "cell_type": "code",
   "execution_count": 388,
   "metadata": {},
   "outputs": [],
   "source": [
    "# Convert list to np.array\n",
    "coords = np.asarray(coords)"
   ]
  },
  {
   "cell_type": "code",
   "execution_count": 389,
   "metadata": {},
   "outputs": [
    {
     "data": {
      "text/plain": [
       "array([[-35,  13],\n",
       "       [ 31,  32],\n",
       "       [-46, -48],\n",
       "       ...,\n",
       "       [ 21,  26],\n",
       "       [-36,  23],\n",
       "       [  5,  25]])"
      ]
     },
     "execution_count": 389,
     "metadata": {},
     "output_type": "execute_result"
    }
   ],
   "source": [
    "coords"
   ]
  },
  {
   "cell_type": "code",
   "execution_count": 390,
   "metadata": {},
   "outputs": [
    {
     "name": "stdout",
     "output_type": "stream",
     "text": [
      "Shape of original data is: (1000, 2)\n"
     ]
    }
   ],
   "source": [
    "print(\"Shape of original data is:\",coords.shape)"
   ]
  },
  {
   "cell_type": "code",
   "execution_count": 391,
   "metadata": {},
   "outputs": [],
   "source": [
    "# Step 1: Center the data around 0 by subtracting mean in each dimension\n",
    "\n",
    "mean = np.mean(coords.T, axis=1)\n",
    "center_coords = coords - mean"
   ]
  },
  {
   "cell_type": "code",
   "execution_count": 392,
   "metadata": {},
   "outputs": [
    {
     "data": {
      "text/plain": [
       "array([[-34.451,  13.498],\n",
       "       [ 31.549,  32.498],\n",
       "       [-45.451, -47.502],\n",
       "       ...,\n",
       "       [ 21.549,  26.498],\n",
       "       [-35.451,  23.498],\n",
       "       [  5.549,  25.498]])"
      ]
     },
     "execution_count": 392,
     "metadata": {},
     "output_type": "execute_result"
    }
   ],
   "source": [
    "center_coords"
   ]
  },
  {
   "cell_type": "code",
   "execution_count": 393,
   "metadata": {},
   "outputs": [
    {
     "name": "stdout",
     "output_type": "stream",
     "text": [
      "Shape of centered data is: (1000, 2)\n"
     ]
    }
   ],
   "source": [
    "print(\"Shape of centered data is:\", center_coords.shape)"
   ]
  },
  {
   "cell_type": "code",
   "execution_count": 394,
   "metadata": {},
   "outputs": [],
   "source": [
    "# Step 2: Calculate covariance matrix\n",
    "\n",
    "cov_matrix = np.cov(center_coords, rowvar=False)"
   ]
  },
  {
   "cell_type": "code",
   "execution_count": 395,
   "metadata": {},
   "outputs": [
    {
     "data": {
      "text/plain": [
       "array([[821.34093994,  14.73633433],\n",
       "       [ 14.73633433, 838.69068669]])"
      ]
     },
     "execution_count": 395,
     "metadata": {},
     "output_type": "execute_result"
    }
   ],
   "source": [
    "cov_matrix"
   ]
  },
  {
   "cell_type": "code",
   "execution_count": 396,
   "metadata": {},
   "outputs": [
    {
     "name": "stdout",
     "output_type": "stream",
     "text": [
      "Shape of cov matrix should be (dxd): d = # dimensions = 2\n",
      "Shape of cov matrix: (2, 2)\n"
     ]
    }
   ],
   "source": [
    "print(\"Shape of cov matrix should be (dxd): d = # dimensions = 2\")\n",
    "print(\"Shape of cov matrix:\", cov_matrix.shape)"
   ]
  },
  {
   "cell_type": "code",
   "execution_count": 397,
   "metadata": {},
   "outputs": [],
   "source": [
    "# Step 3: Calculate eigenvectors & eigenvalues\n",
    "\n",
    "eigval, eigvec = np.linalg.eig(cov_matrix)"
   ]
  },
  {
   "cell_type": "code",
   "execution_count": 398,
   "metadata": {},
   "outputs": [],
   "source": [
    "# Create a list of pairs of eigenvalues & eigenvectors\n",
    "\n",
    "eigen_pairs = [(np.abs(eigval[i]), eigvec[:, i]) for i in range(len(eigval))]"
   ]
  },
  {
   "cell_type": "code",
   "execution_count": 399,
   "metadata": {},
   "outputs": [],
   "source": [
    "# Sort pairs from high to low eigenvalues\n",
    "\n",
    "eigen_pairs.sort(key=lambda x: x[0], reverse=True)"
   ]
  },
  {
   "cell_type": "code",
   "execution_count": 400,
   "metadata": {},
   "outputs": [
    {
     "name": "stdout",
     "output_type": "stream",
     "text": [
      "Make sure eigenvalues-eigenvectors pair is sorted in descending order of eigenvalues.\n",
      "847.1159003790959\n",
      "812.9157262475308\n"
     ]
    }
   ],
   "source": [
    "print(\"Make sure eigenvalues-eigenvectors pair is sorted in descending order of eigenvalues.\")\n",
    "for x in eigen_pairs:\n",
    "    print(x[0])"
   ]
  },
  {
   "cell_type": "code",
   "execution_count": 401,
   "metadata": {},
   "outputs": [
    {
     "name": "stdout",
     "output_type": "stream",
     "text": [
      "Shape of first eigenvectors matrix: (1, 2)\n"
     ]
    }
   ],
   "source": [
    "# Step 4: Find matrix A = p x n with p principal components in row, component one on top\n",
    "# Choose d eigenvectors from k eigenvalues\n",
    "# Reduce 2D to 1D: k = 1\n",
    "# Choose eigenvectors associated with 1st eigenvalue\n",
    "\n",
    "A = np.array([[eigen_pairs[0][1]]]).reshape(1,2)\n",
    "print(\"Shape of first eigenvectors matrix:\", A.shape)"
   ]
  },
  {
   "cell_type": "code",
   "execution_count": 402,
   "metadata": {},
   "outputs": [
    {
     "name": "stdout",
     "output_type": "stream",
     "text": [
      "Shape of transformed data:  (1000, 1)\n"
     ]
    }
   ],
   "source": [
    "# Step 5: Calculate transformed data matrix T\n",
    "# A is matrix with p principal components in row, component one on top\n",
    "# B is tranposed centered data\n",
    "\n",
    "B = center_coords.T\n",
    "T = A.dot(B)\n",
    "T = T.T\n",
    "print('Shape of transformed data: ', T.shape)"
   ]
  },
  {
   "cell_type": "code",
   "execution_count": 403,
   "metadata": {},
   "outputs": [],
   "source": [
    "max_reduced = max(T)\n",
    "min_reduced = min(T)"
   ]
  },
  {
   "cell_type": "code",
   "execution_count": 404,
   "metadata": {},
   "outputs": [],
   "source": [
    "# Create y = 0 coordinates of projected data\n",
    "zero_y = np.zeros((1000,1))"
   ]
  },
  {
   "cell_type": "code",
   "execution_count": 406,
   "metadata": {},
   "outputs": [
    {
     "data": {
      "text/plain": [
       "Text(0.5, 1.0, 'Projected data')"
      ]
     },
     "execution_count": 406,
     "metadata": {},
     "output_type": "execute_result"
    },
    {
     "data": {
      "image/png": "[encoded data removed]",
      "text/plain": [
       "<Figure size 432x288 with 1 Axes>"
      ]
     },
     "metadata": {
      "needs_background": "light"
     },
     "output_type": "display_data"
    }
   ],
   "source": [
    "plt.scatter(T, zero_y[:,0],color='red', s=0.1)\n",
    "plt.xlabel('x coordinate')\n",
    "plt.ylabel('y coordinate')\n",
    "plt.xlim(-100, 100)\n",
    "plt.ylim(-100, 200)\n",
    "plt.title('Projected data')"
   ]
  },
  {
   "cell_type": "code",
   "execution_count": 405,
   "metadata": {},
   "outputs": [
    {
     "data": {
      "text/plain": [
       "Text(0.5, 1.0, 'Original data')"
      ]
     },
     "execution_count": 405,
     "metadata": {},
     "output_type": "execute_result"
    },
    {
     "data": {
      "image/png": "[encoded data removed]",
      "text/plain": [
       "<Figure size 432x288 with 1 Axes>"
      ]
     },
     "metadata": {
      "needs_background": "light"
     },
     "output_type": "display_data"
    }
   ],
   "source": [
    "plt.scatter(coords[:,0], coords[:,1], color='blue', s=0.1)\n",
    "plt.xlabel('x coordinate')\n",
    "plt.ylabel('y coordinate')\n",
    "plt.xlim(-100,100)\n",
    "plt.ylim(-100,200)\n",
    "plt.title('Original data')"
   ]
  }
 ],
 "metadata": {
  "kernelspec": {
   "display_name": "Python 3",
   "language": "python",
   "name": "python3"
  },
  "language_info": {
   "codemirror_mode": {
    "name": "ipython",
    "version": 3
   },
   "file_extension": ".py",
   "mimetype": "text/x-python",
   "name": "python",
   "nbconvert_exporter": "python",
   "pygments_lexer": "ipython3",
   "version": "3.6.8"
  }
 },
 "nbformat": 4,
 "nbformat_minor": 2
}
